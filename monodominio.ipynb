{
  "metadata": {
    "kernelspec": {
      "name": "python",
      "display_name": "Python (Pyodide)",
      "language": "python"
    },
    "language_info": {
      "codemirror_mode": {
        "name": "python",
        "version": 3
      },
      "file_extension": ".py",
      "mimetype": "text/x-python",
      "name": "python",
      "nbconvert_exporter": "python",
      "pygments_lexer": "ipython3",
      "version": "3.8"
    }
  },
  "nbformat_minor": 4,
  "nbformat": 4,
  "cells": [
    {
      "cell_type": "markdown",
      "source": "# Codice 2D per Monodominio",
      "metadata": {}
    },
    {
      "cell_type": "markdown",
      "source": "Script che implementa il sistema Monodominio",
      "metadata": {}
    },
    {
      "cell_type": "markdown",
      "source": "$$\n\\begin{cases}\n\\chi C_m \\dfrac{dv}{dt} - \\text{div} (\\sigma \\nabla u) + \\chi I(v,w) = I_{app} \\\\\n\\dfrac{dw}{dt} = Gf(v,w) \\\\\n\\mathbf{n} \\cdot (\\sigma \\nabla v) = 0\n\\end{cases}\n$$",
      "metadata": {}
    },
    {
      "cell_type": "markdown",
      "source": "### Importiamo la libreria",
      "metadata": {}
    },
    {
      "cell_type": "markdown",
      "source": "Utilizziamo Firedrake https://www.firedrakeproject.org/ libreria _open-source_ per la risoluzione di Equazioni alle Derivate Parziali tramite metodi agli Elementi Finiti.",
      "metadata": {}
    },
    {
      "cell_type": "code",
      "source": "from firedrake import *\nfrom numpy import linspace",
      "metadata": {
        "trusted": true
      },
      "outputs": [],
      "execution_count": null
    },
    {
      "cell_type": "markdown",
      "source": "### Modello ionico",
      "metadata": {}
    },
    {
      "cell_type": "markdown",
      "source": "Risolviamo in modo disaccoppiato il modello ionico dall'equazione Monodominio per la propagazione del segnale elettrico.\n\nImplementiamo il modello di FitzHugh-Nagumo.\nLa dinamica delle variabili di gating e' descritta dalla seguente Equazione Differenziale Ordinaria:",
      "metadata": {}
    },
    {
      "cell_type": "markdown",
      "source": "$$ \\dfrac{dw}{dt} = \\eta v - \\gamma w $$",
      "metadata": {}
    },
    {
      "cell_type": "markdown",
      "source": "La corrente ionica $I(v,w)$ che viene poi considerata nella equazione Monodominio, è data da\n$$\nI(v,w) = - b v (v-c) (\\delta -v ) + \\beta w\n$$\ndove $\\gamma, \\eta,  b, c, \\beta$ e $\\delta$ sono costanti date.",
      "metadata": {}
    },
    {
      "cell_type": "code",
      "source": "# ----- modello ionico di FitzHugh Nagumo\n#\ngamma = 0.025;\neta   = 0.1;\nb     = 5;\nc     = 0.1;\nbeta  = 1;\ndelta = 1;\n\n# [equazioni caratteristiche del modello]\ndef Gf(v, w):\n    return eta * v - gamma * w\ndef I(v, w):",
      "metadata": {
        "trusted": true
      },
      "outputs": [],
      "execution_count": null
    },
    {
      "cell_type": "markdown",
      "source": "### Generiamo la mesh",
      "metadata": {}
    },
    {
      "cell_type": "markdown",
      "source": "Definiamo alcuni parametri che serviranno per la simulazione, come il passo temporale $dt$, il tempo iniziale, finale e le condizioni iniziali e il tensore di conduttivita'",
      "metadata": {}
    },
    {
      "cell_type": "code",
      "source": "dt = 0.05     # passo temporale\nt  = 0.0 \nTf = 10.0     # tempo finale\n\n# ----- costanti del problema\nchi   = Constant(1.0)\ncm    = Constant(1.0)\nic    = Constant(0.0)\nsigma = Constant( ( (2e-3, 0), (0, 1.3514e-3) ) )",
      "metadata": {
        "trusted": true
      },
      "outputs": [],
      "execution_count": null
    },
    {
      "cell_type": "markdown",
      "source": "Generiamo la mesh. Firedrake permette di caricare mesh in formati differenti o di accedere a quelle presenti nella libreria standard (https://www.firedrakeproject.org/_modules/firedrake/utility_meshes.html)\n\nConsideriamo per semplicita' una mesh quadrata 2D unitaria $[0,1] \\times [0,1]$.",
      "metadata": {}
    },
    {
      "cell_type": "code",
      "source": "n = 20\n# mesh = RectangleMesh(nx, ny, Lx, Ly)\nmehs = UnitSquareMesh(n, n)\nx, y = SpatialCoordinate(mesh)",
      "metadata": {
        "trusted": true
      },
      "outputs": [],
      "execution_count": null
    },
    {
      "cell_type": "markdown",
      "source": "Plottiamo la mesh",
      "metadata": {}
    },
    {
      "cell_type": "code",
      "source": "%matplotlib inline\nimport matplotlib.pyplot as plt\nfig, axes = plt.subplots()\ntriplot(mesh, axes=axes)",
      "metadata": {
        "trusted": true
      },
      "outputs": [],
      "execution_count": null
    },
    {
      "cell_type": "markdown",
      "source": "Definiamo la regione di spazio dove applicheremo lo stimolo esterno.\n\nConsideriamo uno stimolo circolare di raggio $r$ applicato nell'angolo in basso a sinistra della mesh, con intensita' $I_a$, applicato per un tempo $t_a$:",
      "metadata": {}
    },
    {
      "cell_type": "code",
      "source": "ta = 1.0     # tempo di stimolo\nIa = 20      # intensita' corrente applicata\nr  = 0.1     # raggio",
      "metadata": {
        "trusted": true
      },
      "outputs": [],
      "execution_count": null
    },
    {
      "cell_type": "markdown",
      "source": "### Spazio degli elementi finiti",
      "metadata": {}
    },
    {
      "cell_type": "markdown",
      "source": "Definiamo lo spazio degli elementi finiti per il problema Monodominio e le relative funzioni.\n\nLista di tutti gli spazi implementati: https://www.firedrakeproject.org/variational-problems.html#supported-finite-elements",
      "metadata": {}
    },
    {
      "cell_type": "code",
      "source": "# ----- load functional spaces and functions\nV = FunctionSpace(mesh, \"CG\", 1)\nw_ = Function(V, name=\"Gating old\")\nw = Function(V, name=\"Gating new\")\nu_ = Function(V, name=\"Potential old\")\nu = Function(V, name=\"Potential new\")\nv = TestFunction(V)",
      "metadata": {
        "trusted": true
      },
      "outputs": [],
      "execution_count": null
    },
    {
      "cell_type": "markdown",
      "source": "Imponiamo le condizioni iniziali alle f\nunzioni considerate.\n\nNB. Di default Firedrake crea f\nunzioni nulle.",
      "metadata": {}
    },
    {
      "cell_type": "code",
      "source": "w_.assign(ic)\nw.assign(ic)\nu_.assign(ic)\nu.assign(ic)",
      "metadata": {
        "trusted": true
      },
      "outputs": [],
      "execution_count": null
    },
    {
      "cell_type": "markdown",
      "source": "Risolviamo, per ogni passo temporale, prima l'equazione per le variabili di gating, poi\nil problema Monodominio",
      "metadata": {}
    },
    {
      "cell_type": "code",
      "source": "# ----- time loop\nTf = 10.0\nfor t in ProgressBar(\"Time step\").iter(linspace(0.0, Tf, int(Tf/dt))):\n    # ----- definisco e risolvo l'equazione per la gating\n    G = (inner((w - w_)/dt, v)\n        - inner( Gf(u_, w_), v ) ) * dx\n    solve(G == 0, w)\n    w_.assign(w)\n    \n    # ----- definisco e risolvo l'equazione Monodominio\n    Iapp = interpolate( Ia * le( sqrt(x*x + y*y), r ) * le(t, ta) , V)\n    F = ( chi * cm * inner( (u - u_)/dt, v )\n        + inner( sigma * grad(u) , grad(v) )\n        + chi * inner( I(u_, w_), v)\n        - inner(Iapp, v) ) * dx\n    \n    solve(F == 0, u)\n    \n    u_.assign(u)",
      "metadata": {
        "trusted": true
      },
      "outputs": [],
      "execution_count": null
    },
    {
      "cell_type": "markdown",
      "source": "Plotto la soluzione all'ultimo passo temporale",
      "metadata": {}
    },
    {
      "cell_type": "code",
      "source": "fig, axes = plt.subplots()\ncollection = tripcolor(u, axes=axes, cmap='coolwarm')\nfig.colorbar(collection);",
      "metadata": {
        "trusted": true
      },
      "outputs": [],
      "execution_count": null
    },
    {
      "cell_type": "markdown",
      "source": "Firedrake permette all'utente di scegliere e impostare i risolutori lineari/nonlineari ed\neventuali precondizionatori dalla libreria per il calcolo parallelo PETSc (https://petsc.org/release/overview/)",
      "metadata": {}
    },
    {
      "cell_type": "code",
      "source": "solve(F == 0, u, solver_parameters={'ksp_type': 'cg',\n                            'pc_type': 'none',\n                            'ksp_monitor': None,\n                            'ksp_monitor_singular_value': None})",
      "metadata": {
        "trusted": true
      },
      "outputs": [],
      "execution_count": null
    }
  ]
}